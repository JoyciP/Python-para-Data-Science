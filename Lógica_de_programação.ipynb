{
  "nbformat": 4,
  "nbformat_minor": 0,
  "metadata": {
    "colab": {
      "name": "Lógica de programação.ipynb",
      "provenance": [],
      "collapsed_sections": [
        "pg1bbNmkYvpC"
      ],
      "authorship_tag": "ABX9TyNizCB6Ra2gdEgxzCN1MtAo",
      "include_colab_link": true
    },
    "kernelspec": {
      "name": "python3",
      "display_name": "Python 3"
    },
    "language_info": {
      "name": "python"
    }
  },
  "cells": [
    {
      "cell_type": "markdown",
      "metadata": {
        "id": "view-in-github",
        "colab_type": "text"
      },
      "source": [
        "<a href=\"https://colab.research.google.com/github/JoyciP/Python-para-Data-Science/blob/main/L%C3%B3gica_de_programa%C3%A7%C3%A3o.ipynb\" target=\"_parent\"><img src=\"https://colab.research.google.com/assets/colab-badge.svg\" alt=\"Open In Colab\"/></a>"
      ]
    },
    {
      "cell_type": "markdown",
      "metadata": {
        "id": "pg1bbNmkYvpC"
      },
      "source": [
        "# **Lógica de programação com Python**"
      ]
    },
    {
      "cell_type": "code",
      "metadata": {
        "colab": {
          "base_uri": "https://localhost:8080/"
        },
        "id": "rJ90-ac-YV7K",
        "outputId": "b6da8df5-c2f2-4ffc-99cd-305228f50ea0"
      },
      "source": [
        "1+1"
      ],
      "execution_count": 31,
      "outputs": [
        {
          "output_type": "execute_result",
          "data": {
            "text/plain": [
              "2"
            ]
          },
          "metadata": {},
          "execution_count": 31
        }
      ]
    },
    {
      "cell_type": "code",
      "metadata": {
        "colab": {
          "base_uri": "https://localhost:8080/",
          "height": 35
        },
        "id": "owjnrkQRZI5-",
        "outputId": "e9acd7d1-6221-411f-de4d-fa28be4ee452"
      },
      "source": [
        "'Joyci'"
      ],
      "execution_count": 32,
      "outputs": [
        {
          "output_type": "execute_result",
          "data": {
            "application/vnd.google.colaboratory.intrinsic+json": {
              "type": "string"
            },
            "text/plain": [
              "'Joyci'"
            ]
          },
          "metadata": {},
          "execution_count": 32
        }
      ]
    },
    {
      "cell_type": "code",
      "metadata": {
        "id": "Z90tEmDCZYbQ"
      },
      "source": [
        "nome = 'Joyci'"
      ],
      "execution_count": 33,
      "outputs": []
    },
    {
      "cell_type": "code",
      "metadata": {
        "colab": {
          "base_uri": "https://localhost:8080/",
          "height": 35
        },
        "id": "g0EMb5fIZx5A",
        "outputId": "5bff6a1c-d460-4235-80f5-aac2ee5ee989"
      },
      "source": [
        "nome"
      ],
      "execution_count": 34,
      "outputs": [
        {
          "output_type": "execute_result",
          "data": {
            "application/vnd.google.colaboratory.intrinsic+json": {
              "type": "string"
            },
            "text/plain": [
              "'Joyci'"
            ]
          },
          "metadata": {},
          "execution_count": 34
        }
      ]
    },
    {
      "cell_type": "code",
      "metadata": {
        "id": "vrdhPYZzZy5U"
      },
      "source": [
        "idade = 26"
      ],
      "execution_count": 35,
      "outputs": []
    },
    {
      "cell_type": "code",
      "metadata": {
        "colab": {
          "base_uri": "https://localhost:8080/"
        },
        "id": "S-ETjRyCZ4C2",
        "outputId": "c1f844db-d215-4ba2-c3b9-5594a477ae8c"
      },
      "source": [
        "idade"
      ],
      "execution_count": 36,
      "outputs": [
        {
          "output_type": "execute_result",
          "data": {
            "text/plain": [
              "26"
            ]
          },
          "metadata": {},
          "execution_count": 36
        }
      ]
    },
    {
      "cell_type": "code",
      "metadata": {
        "colab": {
          "base_uri": "https://localhost:8080/",
          "height": 35
        },
        "id": "Ss4N4is-Z6UM",
        "outputId": "1055eb6d-fbb4-42db-98fa-3e0b0172170f"
      },
      "source": [
        "nome "
      ],
      "execution_count": 37,
      "outputs": [
        {
          "output_type": "execute_result",
          "data": {
            "application/vnd.google.colaboratory.intrinsic+json": {
              "type": "string"
            },
            "text/plain": [
              "'Joyci'"
            ]
          },
          "metadata": {},
          "execution_count": 37
        }
      ]
    },
    {
      "cell_type": "code",
      "metadata": {
        "colab": {
          "base_uri": "https://localhost:8080/"
        },
        "id": "8ajIgC51Z_NH",
        "outputId": "8add8ab0-a8f6-4d42-f25d-b9d1b159afb5"
      },
      "source": [
        "idade"
      ],
      "execution_count": 38,
      "outputs": [
        {
          "output_type": "execute_result",
          "data": {
            "text/plain": [
              "26"
            ]
          },
          "metadata": {},
          "execution_count": 38
        }
      ]
    },
    {
      "cell_type": "code",
      "metadata": {
        "colab": {
          "base_uri": "https://localhost:8080/"
        },
        "id": "RjgWr5M3aAHR",
        "outputId": "b8ccc448-8f23-4a21-ad83-d58925b82c15"
      },
      "source": [
        "print(f'O nome é {nome} e sua idade é {idade} anos')"
      ],
      "execution_count": 39,
      "outputs": [
        {
          "output_type": "stream",
          "name": "stdout",
          "text": [
            "O nome é Joyci e sua idade é 26 anos\n"
          ]
        }
      ]
    },
    {
      "cell_type": "code",
      "metadata": {
        "id": "j841MQLHaTTI"
      },
      "source": [
        "idade = 27"
      ],
      "execution_count": 40,
      "outputs": []
    },
    {
      "cell_type": "markdown",
      "metadata": {
        "id": "JMdkqWM2a8ZZ"
      },
      "source": [
        "# **Criando minha primeira função** "
      ]
    },
    {
      "cell_type": "code",
      "metadata": {
        "id": "pjjF8t5iaxhh"
      },
      "source": [
        "def saudacao() : \n",
        "  nome = input('Qual o seu nome? ')\n",
        "  print(f'Olá {nome}')"
      ],
      "execution_count": null,
      "outputs": []
    },
    {
      "cell_type": "code",
      "metadata": {
        "colab": {
          "base_uri": "https://localhost:8080/"
        },
        "id": "7snk5NOKbrFK",
        "outputId": "e8efe6f0-7fb3-4601-b34f-e2c5627230cb"
      },
      "source": [
        "saudacao()"
      ],
      "execution_count": null,
      "outputs": [
        {
          "output_type": "stream",
          "name": "stdout",
          "text": [
            "Qual o seu nome? Joy\n",
            "Olá Joy\n"
          ]
        }
      ]
    },
    {
      "cell_type": "markdown",
      "metadata": {
        "id": "BJLaw2i4uG_U"
      },
      "source": [
        "# **Parâmetros**"
      ]
    },
    {
      "cell_type": "code",
      "metadata": {
        "id": "PEqo8b8KtUX5"
      },
      "source": [
        "nome = 'Maro'"
      ],
      "execution_count": 42,
      "outputs": []
    },
    {
      "cell_type": "code",
      "metadata": {
        "id": "3lWPKJ0YtaCr"
      },
      "source": [
        "def saudacao_com_parametros(nome_da_pessoa) : \n",
        "  print(f'Olá {nome_da_pessoa} ')"
      ],
      "execution_count": 44,
      "outputs": []
    },
    {
      "cell_type": "code",
      "metadata": {
        "colab": {
          "base_uri": "https://localhost:8080/"
        },
        "id": "SVZt7q8vtxn-",
        "outputId": "589094ac-8ca7-4f6d-ab76-f4eb0149e128"
      },
      "source": [
        "saudacao_com_parametros(nome)"
      ],
      "execution_count": 45,
      "outputs": [
        {
          "output_type": "stream",
          "name": "stdout",
          "text": [
            "Olá Maro \n"
          ]
        }
      ]
    },
    {
      "cell_type": "markdown",
      "metadata": {
        "id": "J8HnB7FbuZQd"
      },
      "source": [
        "# **Condicional**"
      ]
    },
    {
      "cell_type": "code",
      "metadata": {
        "colab": {
          "base_uri": "https://localhost:8080/"
        },
        "id": "r37irS_DuY3R",
        "outputId": "e7667acc-6389-4b33-870a-d5698e105e3f"
      },
      "source": [
        "idade = 19\n",
        "\n",
        "def  verifica_se_pode_dirigir(idade) : \n",
        "  if idade  >= 18:\n",
        "    print('Tem permissão para dirigir')\n",
        "  else:\n",
        "    print('Não tem permissão para dirigir')\n",
        "\n",
        "verifica_se_pode_dirigir(idade)"
      ],
      "execution_count": 59,
      "outputs": [
        {
          "output_type": "stream",
          "name": "stdout",
          "text": [
            "Tem permissão para dirigir\n"
          ]
        }
      ]
    },
    {
      "cell_type": "markdown",
      "metadata": {
        "id": "ZfoDRnk3zBHA"
      },
      "source": [
        "# **Convertendo tipo para inteiro**"
      ]
    },
    {
      "cell_type": "code",
      "metadata": {
        "colab": {
          "base_uri": "https://localhost:8080/"
        },
        "id": "4nUltVSDuYpy",
        "outputId": "928b668b-ae6c-4318-d327-8c2fb2bd2751"
      },
      "source": [
        "def verifica_se_pode_dirigir_sem_parametros():\n",
        "  idade = input('Qual sua idade? ')\n",
        "  idade= int(idade)\n",
        "  if idade  >= 18:\n",
        "    print('Tem permissão para dirigir')\n",
        "  else:\n",
        "    print('Não tem permissão para dirigir')\n",
        "    \n",
        "\n",
        "verifica_se_pode_dirigir_sem_parametros()"
      ],
      "execution_count": 61,
      "outputs": [
        {
          "output_type": "stream",
          "name": "stdout",
          "text": [
            "Qual sua idade? 16\n",
            "Não tem permissão para dirigir\n"
          ]
        }
      ]
    },
    {
      "cell_type": "code",
      "metadata": {
        "id": "uYXQiN9EwOrS"
      },
      "source": [
        ""
      ],
      "execution_count": null,
      "outputs": []
    },
    {
      "cell_type": "markdown",
      "metadata": {
        "id": "x7FMMz0CdkQX"
      },
      "source": [
        "# **Segunda função - Atividade 2 - Python**"
      ]
    },
    {
      "cell_type": "code",
      "metadata": {
        "id": "rDapJEJUdqqI"
      },
      "source": [
        "def nome_completo() :\n",
        "  primeiro_nome = input('Qual seu primeiro nome? ')\n",
        "  sobrenome = input('Qualseu sobrenome? ')\n",
        "  nome_inteiro = primeiro_nome + ' ' + sobrenome\n",
        "  print(nome_inteiro)\n",
        "\n",
        "  nome_completo()"
      ],
      "execution_count": 41,
      "outputs": []
    },
    {
      "cell_type": "code",
      "metadata": {
        "id": "4zZgATBrtY3C"
      },
      "source": [
        ""
      ],
      "execution_count": null,
      "outputs": []
    },
    {
      "cell_type": "markdown",
      "metadata": {
        "id": "h4WwTLT5zwyK"
      },
      "source": [
        "# **Indo até a padaria - Atividade 3**"
      ]
    },
    {
      "cell_type": "code",
      "metadata": {
        "colab": {
          "base_uri": "https://localhost:8080/"
        },
        "id": "QdOzC8wh0V2j",
        "outputId": "86a2abb4-6115-46cc-d025-702cc8dbfaf7"
      },
      "source": [
        "def velocidade(espaco, tempo):\n",
        " v = espaco / tempo\n",
        " print(f'Velocidade: {v} m/s')\n",
        "\n",
        "velocidade(100, 20)"
      ],
      "execution_count": 66,
      "outputs": [
        {
          "output_type": "stream",
          "name": "stdout",
          "text": [
            "Velocidade: 5.0 m/s\n"
          ]
        }
      ]
    },
    {
      "cell_type": "markdown",
      "metadata": {
        "id": "LCpeklCI0vx4"
      },
      "source": [
        "# **Habilitação e TypeError**"
      ]
    },
    {
      "cell_type": "code",
      "metadata": {
        "colab": {
          "base_uri": "https://localhost:8080/"
        },
        "id": "DkihxAVC0bn6",
        "outputId": "c0120574-68e3-4305-cd6c-0aec20c932aa"
      },
      "source": [
        "def habilitacao():\n",
        " idade = input('Qual sua idade? ')\n",
        " idade= int(idade)\n",
        " if idade >= 18:\n",
        "   print('Pode tirar habilitação')\n",
        " else:\n",
        "   tempo = 18 - idade\n",
        "   print(f'Calma... espere {tempo} ano(s) para tirar habilitação')\n",
        "\n",
        "habilitacao()"
      ],
      "execution_count": 68,
      "outputs": [
        {
          "output_type": "stream",
          "name": "stdout",
          "text": [
            "Qual sua idade? 16\n",
            "Calma... espere 2 ano(s) para tirar habilitação\n"
          ]
        }
      ]
    },
    {
      "cell_type": "code",
      "metadata": {
        "id": "9wA5gGCJ0vBa"
      },
      "source": [
        ""
      ],
      "execution_count": null,
      "outputs": []
    }
  ]
}